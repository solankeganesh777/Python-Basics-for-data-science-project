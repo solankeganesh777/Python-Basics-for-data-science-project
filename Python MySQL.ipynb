{
 "cells": [
  {
   "cell_type": "code",
   "execution_count": 1,
   "metadata": {},
   "outputs": [
    {
     "name": "stdout",
     "output_type": "stream",
     "text": [
      "<mysql.connector.connection.MySQLConnection object at 0x0000029C9FAED208>\n"
     ]
    }
   ],
   "source": [
    "import mysql.connector\n",
    "\n",
    "#Create connection\n",
    "mydb=mysql.connector.connect(host='localhost',username='root',password='root@123')\n",
    "\n",
    "print(mydb)\n",
    "\n",
    "# Create database\n",
    "\n",
    "mycursor=mydb.cursor()\n"
   ]
  },
  {
   "cell_type": "code",
   "execution_count": 4,
   "metadata": {},
   "outputs": [],
   "source": [
    "# Create database\n",
    "\n",
    "mycursor.execute(\"CREATE DATABASE Cus\")"
   ]
  },
  {
   "cell_type": "code",
   "execution_count": 2,
   "metadata": {},
   "outputs": [],
   "source": [
    "#Create a Table\n",
    "\n",
    "mycursor.execute(\"USE mydatabase\")\n",
    "mycursor.execute('CREATE TABLE customers(name VARCHAR(255),address VARCHAR(255))')"
   ]
  },
  {
   "cell_type": "code",
   "execution_count": 6,
   "metadata": {},
   "outputs": [
    {
     "name": "stdout",
     "output_type": "stream",
     "text": [
      "('customers',)\n",
      "('students',)\n"
     ]
    }
   ],
   "source": [
    "#Check if table exists\n",
    "mycursor.execute('SHOW TABLES')\n",
    "for i in mycursor:\n",
    "    print(i)"
   ]
  },
  {
   "cell_type": "code",
   "execution_count": 5,
   "metadata": {},
   "outputs": [],
   "source": [
    "# Create primary key creating a table\n",
    "\n",
    "mycursor.execute(\"create table students(id int auto_increment primary key, name varchar(100),city varchar(50),qualification varchar(20))\")"
   ]
  },
  {
   "cell_type": "code",
   "execution_count": 9,
   "metadata": {},
   "outputs": [],
   "source": [
    "# Create primary key on existing table\n",
    "\n",
    "mycursor.execute(\"Alter table students add column id int auto_increment primary key\")"
   ]
  },
  {
   "cell_type": "code",
   "execution_count": 10,
   "metadata": {},
   "outputs": [
    {
     "name": "stdout",
     "output_type": "stream",
     "text": [
      "1 record inserted\n"
     ]
    }
   ],
   "source": [
    "# Insert into table\n",
    "\n",
    "sql=\"insert into students(name, city,qualification) values (%s,%s,%s)\"\n",
    "val=(\"ganesh\",\"partur\",\"ME\")\n",
    "    \n",
    "mycursor.execute(sql,val)\n",
    "mydb.commit()\n",
    "\n",
    "print(mycursor.rowcount, \"record inserted\")"
   ]
  },
  {
   "cell_type": "code",
   "execution_count": 14,
   "metadata": {},
   "outputs": [
    {
     "name": "stdout",
     "output_type": "stream",
     "text": [
      "2 was inserted\n"
     ]
    }
   ],
   "source": [
    "#Insert multiple rows\n",
    "\n",
    "sql=\"insert into students(name, city,qualification) values (%s,%s,%s)\"\n",
    "val=[(\"mangesh\",\"partur\",\"MSc\"),(\"Gajanan\",\"Nanded\",\"ME\")]\n",
    "    \n",
    "mycursor.executemany(sql,val)\n",
    "mydb.commit()\n",
    "\n",
    "print(mycursor.rowcount, \"was inserted\")"
   ]
  },
  {
   "cell_type": "code",
   "execution_count": 13,
   "metadata": {},
   "outputs": [
    {
     "name": "stdout",
     "output_type": "stream",
     "text": [
      "0\n"
     ]
    }
   ],
   "source": [
    "#get the inserted id\n",
    "\n",
    "print(mycursor.lastrowid)"
   ]
  },
  {
   "cell_type": "code",
   "execution_count": 6,
   "metadata": {},
   "outputs": [
    {
     "name": "stdout",
     "output_type": "stream",
     "text": [
      "(1, 'ganesh', 'partur', 'ME')\n",
      "(2, 'mangesh', 'partur', 'MSc')\n",
      "(3, 'Gajanan', 'Nanded', 'ME')\n",
      "\n",
      "\n",
      "[('ganesh', 'ME'), ('mangesh', 'MSc'), ('Gajanan', 'ME')]\n",
      "\n",
      "\n",
      "(1, 'ganesh', 'partur', 'ME')\n"
     ]
    }
   ],
   "source": [
    "# Select from a table\n",
    "\n",
    "mycursor.execute(\"select * from students\")\n",
    "resul=mycursor.fetchall()\n",
    "for i in resul:\n",
    "    print(i)\n",
    "\n",
    "print(\"\\n\")\n",
    "# Selecting columns\n",
    "\n",
    "mycursor.execute(\"select name,qualification from students\")\n",
    "print(mycursor.fetchall())\n",
    "\n",
    "# If u want to get only one row\n",
    "print(\"\\n\")\n",
    "mycursor.execute(\"Select * from students\")\n",
    "print(mycursor.fetchone())"
   ]
  },
  {
   "cell_type": "code",
   "execution_count": 5,
   "metadata": {},
   "outputs": [
    {
     "name": "stdout",
     "output_type": "stream",
     "text": [
      "(1, 'ganesh', 'partur', 'ME')\n",
      "(2, 'mangesh', 'partur', 'MSc')\n"
     ]
    }
   ],
   "source": [
    "# Where statement: Select with a filter\n",
    "\n",
    "sql=\"select * from students where city='partur'\"\n",
    "mycursor.execute(sql)\n",
    "result=mycursor.fetchall()\n",
    "for i in result:\n",
    "    print(i)"
   ]
  },
  {
   "cell_type": "code",
   "execution_count": 13,
   "metadata": {},
   "outputs": [
    {
     "name": "stdout",
     "output_type": "stream",
     "text": [
      "[(1, 'ganesh', 'partur', 'ME'), (2, 'mangesh', 'partur', 'MSc')]\n"
     ]
    }
   ],
   "source": [
    "mycursor.execute(\"use mydatabase\")\n",
    "sql=\"select * from students where city like '%art%' \"\n",
    "mycursor.execute(sql)\n",
    "print(mycursor.fetchall())"
   ]
  },
  {
   "cell_type": "code",
   "execution_count": 20,
   "metadata": {},
   "outputs": [
    {
     "name": "stdout",
     "output_type": "stream",
     "text": [
      "[(3, 'Gajanan', 'Nanded', 'ME')]\n"
     ]
    }
   ],
   "source": [
    "# Prevent SQL Injection\n",
    "\n",
    "sql=\"Select * from students where city=%s\"\n",
    "cit=(\"nanded\",)\n",
    "mycursor.execute(sql,cit)\n",
    "print(mycursor.fetchall())"
   ]
  },
  {
   "cell_type": "code",
   "execution_count": 25,
   "metadata": {},
   "outputs": [
    {
     "name": "stdout",
     "output_type": "stream",
     "text": [
      "[(3, 'Gajanan', 'Nanded', 'ME'), (1, 'ganesh', 'partur', 'ME'), (2, 'mangesh', 'partur', 'MSc')]\n",
      "\n",
      "\n",
      "[(2, 'mangesh', 'partur', 'MSc'), (1, 'ganesh', 'partur', 'ME'), (3, 'Gajanan', 'Nanded', 'ME')]\n"
     ]
    }
   ],
   "source": [
    "# MySQL Order by\n",
    "\n",
    "#Ascending by default\n",
    "sql=\"select * from students order by name\"\n",
    "mycursor.execute(sql)\n",
    "print(mycursor.fetchall())\n",
    "\n",
    "print(\"\\n\")\n",
    "# Descending \n",
    "sql=\"select * from students order by name desc\"\n",
    "mycursor.execute(sql)\n",
    "print(mycursor.fetchall())"
   ]
  },
  {
   "cell_type": "code",
   "execution_count": 32,
   "metadata": {},
   "outputs": [
    {
     "name": "stdout",
     "output_type": "stream",
     "text": [
      "[(1, 'ganesh', 'partur', 'ME'), (2, 'mangesh', 'partur', 'MSc'), (4, 'gajanan', 'nanded', 'ME'), (5, 'Varsha', 'nanded', 'BE')]\n",
      "2 records deleted\n",
      "[(1, 'ganesh', 'partur', 'ME'), (2, 'mangesh', 'partur', 'MSc')]\n"
     ]
    }
   ],
   "source": [
    "# MySQL Delete From \n",
    "\n",
    "#Delete record\n",
    "\n",
    "sql=\"select * from students\"\n",
    "mycursor.execute(sql)\n",
    "print(mycursor.fetchall())\n",
    "\n",
    "sql=\"delete from students where city='nanded'\"\n",
    "mycursor.execute(sql)\n",
    "mydb.commit()\n",
    "print(mycursor.rowcount, \"records deleted\")\n",
    "\n",
    "sql2=\"select * from students\"\n",
    "mycursor.execute(sql2)\n",
    "print(mycursor.fetchall())"
   ]
  },
  {
   "cell_type": "code",
   "execution_count": 41,
   "metadata": {},
   "outputs": [
    {
     "name": "stdout",
     "output_type": "stream",
     "text": [
      "[('customers',), ('students',)]\n",
      "[('students',)]\n"
     ]
    }
   ],
   "source": [
    "# MySQL Drop table\n",
    "\n",
    "sql=\"show tables\"\n",
    "mycursor.execute(sql)\n",
    "print(mycursor.fetchall())\n",
    "\n",
    "sql=\"Drop table customers\"\n",
    "mycursor.execute(sql)\n",
    "\n",
    "sql=\"show tables\"\n",
    "mycursor.execute(sql)\n",
    "print(mycursor.fetchall())\n",
    "\n",
    "# Drop only if exists\n",
    "sql=\"drop table if exists customers\"\n",
    "mycursor.execute(sql)\n"
   ]
  },
  {
   "cell_type": "code",
   "execution_count": 47,
   "metadata": {},
   "outputs": [
    {
     "name": "stdout",
     "output_type": "stream",
     "text": [
      "[(1, 'GaneshS', 'parturCircle', 'ME'), (2, 'mangesh', 'parturCircle', 'MSc')]\n",
      "2 records affected\n",
      "[(1, 'GaneshS', 'partur', 'ME'), (2, 'mangesh', 'partur', 'MSc')]\n",
      "1 records affected\n"
     ]
    }
   ],
   "source": [
    "# MySQL Update table\n",
    "\n",
    "sql=\"select * from students\"\n",
    "mycursor.execute(sql)\n",
    "print(mycursor.fetchall())\n",
    "\n",
    "sql=\"update students set city='partur' where city='parturCircle'\"\n",
    "mycursor.execute(sql)\n",
    "mydb.commit()\n",
    "print(mycursor.rowcount,'records affected')\n",
    "\n",
    "sql=\"select * from students\"\n",
    "mycursor.execute(sql)\n",
    "print(mycursor.fetchall())\n",
    "\n",
    "# Prevent SQL Injection\n",
    "sql=\"update students set name=%s where name=%s \"\n",
    "val=('ganesh','GaneshS')\n",
    "mycursor.execute(sql, val)\n",
    "mydb.commit()\n",
    "print(mycursor.rowcount,'records affected')\n"
   ]
  },
  {
   "cell_type": "code",
   "execution_count": 3,
   "metadata": {},
   "outputs": [
    {
     "name": "stdout",
     "output_type": "stream",
     "text": [
      "[(1, 'ganesh', 'partur', 'ME'), (2, 'mangesh', 'partur', 'MSc'), (6, 'gaj', 'nanded', 'ME'), (7, 'VarshaM', 'nanded', 'BE')]\n",
      "[(1, 'ganesh', 'partur', 'ME'), (2, 'mangesh', 'partur', 'MSc')]\n",
      "[(2, 'mangesh', 'partur', 'MSc'), (6, 'gaj', 'nanded', 'ME'), (7, 'VarshaM', 'nanded', 'BE')]\n"
     ]
    }
   ],
   "source": [
    "# MySQL Limit\n",
    "\n",
    "sql=\"select * from students\"\n",
    "mycursor.execute(sql)\n",
    "print(mycursor.fetchall())\n",
    "\n",
    "sql=\"select * from students LIMIT 2\"\n",
    "mycursor.execute(sql)\n",
    "print(mycursor.fetchall())\n",
    "\n",
    "sql=\"select * from students limit 5 offset 1\"\n",
    "mycursor.execute(sql)\n",
    "print(mycursor.fetchall())"
   ]
  },
  {
   "cell_type": "code",
   "execution_count": 52,
   "metadata": {},
   "outputs": [],
   "source": [
    "# MySQL Join\n",
    "\n"
   ]
  },
  {
   "cell_type": "code",
   "execution_count": 43,
   "metadata": {},
   "outputs": [],
   "source": [
    "sql=\"CREATE TABLE EMPLOYEE(FIRST_NAME CHAR(20) NOT NULL,LAST_NAME CHAR(20),AGE INT,SEX CHAR(1),INCOME FLOAT, CONTACT INT)\"\n",
    "mycursor.execute(sql)"
   ]
  },
  {
   "cell_type": "code",
   "execution_count": 44,
   "metadata": {},
   "outputs": [
    {
     "name": "stdout",
     "output_type": "stream",
     "text": [
      "5\n"
     ]
    }
   ],
   "source": [
    "sql=\"INSERT INTO Employee VALUES ('Ramya', 'Rama Priya', 27, 'F', 9000, 101),('Vinay', 'Bhattacharya', 20, 'M', 6000, 102),('Sharukh', 'Sheik', 25, 'M', 8300, 103),('Sarmista', 'Sharma', 26, 'F', 10000, 104),('Trupthi', 'Mishra', 24, 'F', 6000, 105)\"\n",
    "mycursor.execute(sql)\n",
    "print(mycursor.rowcount)"
   ]
  },
  {
   "cell_type": "code",
   "execution_count": 45,
   "metadata": {},
   "outputs": [],
   "source": [
    "sql=\"CREATE TABLE CONTACT(ID INT NOT NULL,   EMAIL CHAR(20) NOT NULL,   PHONE LONG,   CITY CHAR(20))\"\n",
    "mycursor.execute(sql)"
   ]
  },
  {
   "cell_type": "code",
   "execution_count": 46,
   "metadata": {},
   "outputs": [
    {
     "name": "stdout",
     "output_type": "stream",
     "text": [
      "4\n"
     ]
    }
   ],
   "source": [
    "sql=\"INSERT INTO CONTACT (ID, EMAIL, CITY) VALUES    (101, 'Krishna@mymail.com', 'Hyderabad'),    (102, 'Raja@mymail.com', 'Vishakhapatnam'),   (103, 'Krishna@mymail.com', 'Pune'),(104, 'Raja@mymail.com', 'Mumbai')\"\n",
    "mycursor.execute(sql)\n",
    "print(mycursor.rowcount)"
   ]
  },
  {
   "cell_type": "code",
   "execution_count": 56,
   "metadata": {},
   "outputs": [
    {
     "name": "stdout",
     "output_type": "stream",
     "text": [
      "('Ramya', 'Rama Priya', 27, 'F', 9000.0, 101)\n",
      "('Vinay', 'Bhattacharya', 20, 'M', 6000.0, 102)\n",
      "('Sharukh', 'Sheik', 25, 'M', 8300.0, 103)\n",
      "('Sarmista', 'Sharma', 26, 'F', 10000.0, 104)\n",
      "('Trupthi', 'Mishra', 24, 'F', 6000.0, 105)\n",
      "\n",
      "\n",
      "(101, 'Krishna@mymail.com', None, 'Hyderabad')\n",
      "(102, 'Raja@mymail.com', None, 'Vishakhapatnam')\n",
      "(103, 'Krishna@mymail.com', None, 'Pune')\n",
      "(104, 'Raja@mymail.com', None, 'Mumbai')\n",
      "\n",
      "\n",
      "('Ramya', 101, 101)\n",
      "('Vinay', 102, 102)\n",
      "('Sharukh', 103, 103)\n",
      "('Sarmista', 104, 104)\n"
     ]
    }
   ],
   "source": [
    "\n",
    "\n",
    "sql=\"select * from employee\"\n",
    "mycursor.execute(sql)\n",
    "result=mycursor.fetchall()\n",
    "for i in result:\n",
    "    print(i)\n",
    "\n",
    "print(\"\\n\")\n",
    "sql=\"select * from contact\"\n",
    "mycursor.execute(sql)\n",
    "result=mycursor.fetchall()\n",
    "for i in result:\n",
    "    print(i)\n",
    "\n",
    "# Inner Join\n",
    "print(\"\\n\")\n",
    "sql=\"SELECT EMPLOYEE.FIRST_NAME,EMPLOYEE.CONTACT,CONTACT.ID from EMPLOYEE INNER JOIN CONTACT ON EMPLOYEE.CONTACT = CONTACT.ID\"\n",
    "mycursor.execute(sql)\n",
    "result=mycursor.fetchall()\n",
    "for i in result:\n",
    "    print(i)"
   ]
  },
  {
   "cell_type": "code",
   "execution_count": 58,
   "metadata": {},
   "outputs": [
    {
     "name": "stdout",
     "output_type": "stream",
     "text": [
      "\n",
      "\n",
      "('Ramya', 101, 101)\n",
      "('Vinay', 102, 102)\n",
      "('Sharukh', 103, 103)\n",
      "('Sarmista', 104, 104)\n",
      "('Trupthi', 105, None)\n"
     ]
    }
   ],
   "source": [
    "# Left Outer Join\n",
    "\n",
    "print(\"\\n\")\n",
    "sql=\"SELECT EMPLOYEE.FIRST_NAME,EMPLOYEE.CONTACT,CONTACT.ID FROM EMPLOYEE LEFT JOIN CONTACT ON EMPLOYEE.CONTACT = CONTACT.ID\"\n",
    "mycursor.execute(sql)\n",
    "result=mycursor.fetchall()\n",
    "for i in result:\n",
    "    print(i)"
   ]
  },
  {
   "cell_type": "code",
   "execution_count": 59,
   "metadata": {},
   "outputs": [
    {
     "name": "stdout",
     "output_type": "stream",
     "text": [
      "\n",
      "\n",
      "('Ramya', 101, 101)\n",
      "('Vinay', 102, 102)\n",
      "('Sharukh', 103, 103)\n",
      "('Sarmista', 104, 104)\n"
     ]
    }
   ],
   "source": [
    "# Right Outer Join\n",
    "\n",
    "print(\"\\n\")\n",
    "sql=\"SELECT EMPLOYEE.FIRST_NAME,EMPLOYEE.CONTACT,CONTACT.ID FROM EMPLOYEE RIGHT JOIN CONTACT ON EMPLOYEE.CONTACT = CONTACT.ID\"\n",
    "mycursor.execute(sql)\n",
    "result=mycursor.fetchall()\n",
    "for i in result:\n",
    "    print(i)"
   ]
  },
  {
   "cell_type": "code",
   "execution_count": 65,
   "metadata": {},
   "outputs": [
    {
     "name": "stdout",
     "output_type": "stream",
     "text": [
      "\n",
      "\n",
      "('Ramya', 101, 101)\n",
      "('Vinay', 102, 102)\n",
      "('Sharukh', 103, 103)\n",
      "('Sarmista', 104, 104)\n"
     ]
    }
   ],
   "source": [
    "# Full outer Join\n",
    "\n",
    "print(\"\\n\")\n",
    "sql=\"SELECT EMPLOYEE.FIRST_NAME,EMPLOYEE.CONTACT,CONTACT.ID FROM EMPLOYEE RIGHT JOIN CONTACT ON EMPLOYEE.CONTACT = CONTACT.ID\"\n",
    "mycursor.execute(sql)\n",
    "result=mycursor.fetchall()\n",
    "for i in result:\n",
    "    print(i)"
   ]
  }
 ],
 "metadata": {
  "kernelspec": {
   "display_name": "Python 3",
   "language": "python",
   "name": "python3"
  },
  "language_info": {
   "codemirror_mode": {
    "name": "ipython",
    "version": 3
   },
   "file_extension": ".py",
   "mimetype": "text/x-python",
   "name": "python",
   "nbconvert_exporter": "python",
   "pygments_lexer": "ipython3",
   "version": "3.7.3"
  }
 },
 "nbformat": 4,
 "nbformat_minor": 4
}
